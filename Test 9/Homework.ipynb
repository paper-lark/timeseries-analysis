{
 "cells": [
  {
   "cell_type": "code",
   "execution_count": 2,
   "id": "attached-caribbean",
   "metadata": {},
   "outputs": [],
   "source": [
    "import numpy as np"
   ]
  },
  {
   "cell_type": "code",
   "execution_count": 26,
   "id": "boolean-husband",
   "metadata": {},
   "outputs": [],
   "source": [
    "a = np.array([\n",
    "    [-0.1, 0.1, 0.1,   0.2, 0.3, 0.2],\n",
    "    [0.1, 0.1, 0.3,    0, 0.3, 0.2],\n",
    "    [0.1, 0.3, 0.2,    0.2, 0, 0.1],\n",
    "    [1,0,0,   0,0,0],\n",
    "    [0,1,0,   0,0,0],\n",
    "    [0,0,1,   0,0,0],\n",
    "])"
   ]
  },
  {
   "cell_type": "code",
   "execution_count": 27,
   "id": "australian-squad",
   "metadata": {},
   "outputs": [],
   "source": [
    "# a = np.array([\n",
    "#     [0.1, -0.1, 0.2,   0.2, -0.3, 0.2],\n",
    "#     [0.1, 0.1, 0.3,    0, 0.3, 0.2],\n",
    "#     [0.1, 0.3, 0.2,    0.2, -0.3, -0.2],\n",
    "#     [1,0,0,   0,0,0],\n",
    "#     [0,1,0,   0,0,0],\n",
    "#     [0,0,1,   0,0,0],\n",
    "# ])"
   ]
  },
  {
   "cell_type": "code",
   "execution_count": 33,
   "id": "specialized-technician",
   "metadata": {},
   "outputs": [
    {
     "data": {
      "text/plain": [
       "array([ 0.94548167+0.j        ,  0.24752458+0.18497638j,\n",
       "        0.24752458-0.18497638j, -0.30228649+0.j        ,\n",
       "       -0.48381491+0.j        , -0.45442943+0.j        ])"
      ]
     },
     "execution_count": 33,
     "metadata": {},
     "output_type": "execute_result"
    }
   ],
   "source": [
    "values, _ = np.linalg.eig(a)\n",
    "values"
   ]
  },
  {
   "cell_type": "code",
   "execution_count": 32,
   "id": "innovative-emission",
   "metadata": {},
   "outputs": [
    {
     "name": "stdout",
     "output_type": "stream",
     "text": [
      "0.4838149087479974\n",
      "0.4544294304183742\n",
      "0.302286493112044\n",
      "0.30900595454208596\n",
      "0.30900595454208596\n",
      "0.9454816715886973\n"
     ]
    }
   ],
   "source": [
    "for v in sorted(values):\n",
    "    print(np.abs(v))"
   ]
  },
  {
   "cell_type": "code",
   "execution_count": null,
   "id": "closing-delta",
   "metadata": {},
   "outputs": [],
   "source": []
  }
 ],
 "metadata": {
  "kernelspec": {
   "display_name": "Python 3",
   "language": "python",
   "name": "python3"
  },
  "language_info": {
   "codemirror_mode": {
    "name": "ipython",
    "version": 3
   },
   "file_extension": ".py",
   "mimetype": "text/x-python",
   "name": "python",
   "nbconvert_exporter": "python",
   "pygments_lexer": "ipython3",
   "version": "3.7.10"
  }
 },
 "nbformat": 4,
 "nbformat_minor": 5
}
